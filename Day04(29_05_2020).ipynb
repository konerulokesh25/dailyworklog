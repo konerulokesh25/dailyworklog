{
  "nbformat": 4,
  "nbformat_minor": 0,
  "metadata": {
    "colab": {
      "name": "Day04(29-05-2020).ipynb",
      "provenance": []
    },
    "kernelspec": {
      "name": "python3",
      "display_name": "Python 3"
    }
  },
  "cells": [
    {
      "cell_type": "code",
      "metadata": {
        "id": "bsmmMi5vu95Y",
        "colab_type": "code",
        "outputId": "33b56802-434e-43b5-d2cc-5514791722bf",
        "colab": {
          "base_uri": "https://localhost:8080/",
          "height": 85
        }
      },
      "source": [
        "#loop control statemennts:break,continue\n",
        "for i in range(1,11):\n",
        "    if i % 5 == 0:\n",
        "        break\n",
        "    else: \n",
        "        print(i)"
      ],
      "execution_count": 0,
      "outputs": [
        {
          "output_type": "stream",
          "text": [
            "1\n",
            "2\n",
            "3\n",
            "4\n"
          ],
          "name": "stdout"
        }
      ]
    },
    {
      "cell_type": "code",
      "metadata": {
        "id": "-OpTPLYsvLaa",
        "colab_type": "code",
        "outputId": "b08e2018-87bf-4ed2-856c-9dcd403497e4",
        "colab": {
          "base_uri": "https://localhost:8080/",
          "height": 153
        }
      },
      "source": [
        "for i in range(1,11):\n",
        "    if i % 5 == 0:\n",
        "        continue\n",
        "    else: \n",
        "        print(i)"
      ],
      "execution_count": 0,
      "outputs": [
        {
          "output_type": "stream",
          "text": [
            "1\n",
            "2\n",
            "3\n",
            "4\n",
            "6\n",
            "7\n",
            "8\n",
            "9\n"
          ],
          "name": "stdout"
        }
      ]
    },
    {
      "cell_type": "markdown",
      "metadata": {
        "id": "lRLBSubpwJ4D",
        "colab_type": "text"
      },
      "source": [
        "Program to validate the username and password given by the user.if give wrong it should ask the username and password again and again until user gives the correct credentials"
      ]
    },
    {
      "cell_type": "code",
      "metadata": {
        "id": "d6LY-nLYv2jH",
        "colab_type": "code",
        "outputId": "db95d406-b097-40cc-a630-a4b7ad1cdae5",
        "colab": {
          "base_uri": "https://localhost:8080/",
          "height": 136
        }
      },
      "source": [
        "#username:python\n",
        "#password:abc123\n",
        "while True:\n",
        "  user=input(\"enter your name: \")\n",
        "  if user == \"python\":\n",
        "     pwd=input(\"enter your password: \")\n",
        "     if pwd==\"abc123\":\n",
        "        print(\"Login Successful!!\")\n",
        "        break\n",
        "  else:\n",
        "     continue"
      ],
      "execution_count": 0,
      "outputs": [
        {
          "output_type": "stream",
          "text": [
            "enter your name: sasasd\n",
            "enter your name: python\n",
            "enter your password: ewwfefewf\n",
            "enter your name: abc123\n",
            "enter your name: python\n",
            "enter your password: abc123\n",
            "Login Successful!!\n"
          ],
          "name": "stdout"
        }
      ]
    },
    {
      "cell_type": "markdown",
      "metadata": {
        "id": "ZPjwDBXL0aEv",
        "colab_type": "text"
      },
      "source": [
        "### Functions:\n",
        "block of statements\n",
        "\n",
        "1.predefined(which are already)\n",
        "       \n",
        "       -len(),print(),input(),min(),max()\n",
        "\n",
        "2.user-defined(custom function)"
      ]
    },
    {
      "cell_type": "markdown",
      "metadata": {
        "id": "RojiumOK1WM1",
        "colab_type": "text"
      },
      "source": [
        "```def function_name(parameter list):\n",
        "       \n",
        "       statements\n",
        "       \n",
        "       return ```"
      ]
    },
    {
      "cell_type": "code",
      "metadata": {
        "id": "1WIg0_zA1qP9",
        "colab_type": "code",
        "outputId": "82a31414-d6a2-44b5-d8dd-5b49d2d55070",
        "colab": {
          "base_uri": "https://localhost:8080/",
          "height": 34
        }
      },
      "source": [
        "def name(username):#Function definition\n",
        "    print(\"hello\",username)\n",
        "\n",
        "name(\"sai\")#Function calling"
      ],
      "execution_count": 0,
      "outputs": [
        {
          "output_type": "stream",
          "text": [
            "hello sai\n"
          ],
          "name": "stdout"
        }
      ]
    },
    {
      "cell_type": "code",
      "metadata": {
        "id": "8uVWUmNwyw4f",
        "colab_type": "code",
        "outputId": "90c3faf0-31d0-40c9-9f3d-e986559772a6",
        "colab": {
          "base_uri": "https://localhost:8080/",
          "height": 68
        }
      },
      "source": [
        "def addition(a,b):\n",
        "    return a+b,a-b,a*b,a/b\n",
        "    \n",
        "print(addition(10,20))\n",
        "print(addition(100,200))\n",
        "print(addition(110,220))\n"
      ],
      "execution_count": 0,
      "outputs": [
        {
          "output_type": "stream",
          "text": [
            "(30, -10, 200, 0.5)\n",
            "(300, -100, 20000, 0.5)\n",
            "(330, -110, 24200, 0.5)\n"
          ],
          "name": "stdout"
        }
      ]
    },
    {
      "cell_type": "code",
      "metadata": {
        "id": "3NpNR-yM5Aus",
        "colab_type": "code",
        "outputId": "e16e8c08-a8b6-45ef-c20f-f08af9ed3147",
        "colab": {
          "base_uri": "https://localhost:8080/",
          "height": 34
        }
      },
      "source": [
        "#Multiple return values\n",
        "def arithmetic(a,b):\n",
        "    return a+b,a-b,a*b,a/b\n",
        "\n",
        "#unpacking\n",
        "add,sub,mul,div = arithmetic(10,20)\n",
        "print(sub)"
      ],
      "execution_count": 0,
      "outputs": [
        {
          "output_type": "stream",
          "text": [
            "-10\n"
          ],
          "name": "stdout"
        }
      ]
    },
    {
      "cell_type": "markdown",
      "metadata": {
        "id": "cSr3wHvb704k",
        "colab_type": "text"
      },
      "source": [
        "# Different Types Of arguments\n",
        "1.required positional arguments\n",
        "\n",
        "2.default argument\n",
        "\n",
        "3.keyword argument\n",
        "\n",
        "4.vatiable length argument"
      ]
    },
    {
      "cell_type": "code",
      "metadata": {
        "id": "vZFgdJkk6WLA",
        "colab_type": "code",
        "outputId": "edaac32d-1d8a-449e-812f-6cca073d7e07",
        "colab": {
          "base_uri": "https://localhost:8080/",
          "height": 34
        }
      },
      "source": [
        "def add(a,b):\n",
        "    return(a+b)\n",
        "add(10,20)\n",
        "#add(10,20,30)\n",
        "    "
      ],
      "execution_count": 0,
      "outputs": [
        {
          "output_type": "execute_result",
          "data": {
            "text/plain": [
              "30"
            ]
          },
          "metadata": {
            "tags": []
          },
          "execution_count": 17
        }
      ]
    },
    {
      "cell_type": "code",
      "metadata": {
        "id": "dynhhjw-8HyY",
        "colab_type": "code",
        "outputId": "f4b16d87-ce2b-4d69-8ef8-28c11fd7e8cf",
        "colab": {
          "base_uri": "https://localhost:8080/",
          "height": 51
        }
      },
      "source": [
        "#default argument \n",
        "#default argument should be at the end of arg list\n",
        "def add(a,b=100):\n",
        "    return a+b\n",
        "\n",
        "print(add(100))\n",
        "print(add(200,200))    "
      ],
      "execution_count": 0,
      "outputs": [
        {
          "output_type": "stream",
          "text": [
            "200\n",
            "400\n"
          ],
          "name": "stdout"
        }
      ]
    },
    {
      "cell_type": "code",
      "metadata": {
        "id": "nSDnWZFS8gan",
        "colab_type": "code",
        "outputId": "0b6a5326-2b01-4ac4-e766-756979bfd029",
        "colab": {
          "base_uri": "https://localhost:8080/",
          "height": 68
        }
      },
      "source": [
        "#keyword argument:\n",
        "def add(a,b):\n",
        "    print(\"a value:\",a)\n",
        "    print(\"b value:\",b)\n",
        "    return(a+b)\n",
        "add(b=10,a=20)   "
      ],
      "execution_count": 0,
      "outputs": [
        {
          "output_type": "stream",
          "text": [
            "a value: 20\n",
            "b value: 10\n"
          ],
          "name": "stdout"
        },
        {
          "output_type": "execute_result",
          "data": {
            "text/plain": [
              "30"
            ]
          },
          "metadata": {
            "tags": []
          },
          "execution_count": 21
        }
      ]
    },
    {
      "cell_type": "code",
      "metadata": {
        "id": "sH4vCDv5_eAU",
        "colab_type": "code",
        "outputId": "7ce0159d-dbb0-4c46-960d-6d3e2bb346db",
        "colab": {
          "base_uri": "https://localhost:8080/",
          "height": 68
        }
      },
      "source": [
        "#variable length arguments\n",
        "#(120,230,34,450,460)-->Tuple\n",
        "def add(*a):\n",
        "    m = 1\n",
        "    for i in a:\n",
        "        m = m*i \n",
        "    return m\n",
        "\n",
        "print(add(10,20))\n",
        "print(add(10,20,30))\n",
        "print(add(10,20,30,40))"
      ],
      "execution_count": 0,
      "outputs": [
        {
          "output_type": "stream",
          "text": [
            "200\n",
            "6000\n",
            "240000\n"
          ],
          "name": "stdout"
        }
      ]
    },
    {
      "cell_type": "code",
      "metadata": {
        "id": "SjxPPfXGCyCf",
        "colab_type": "code",
        "outputId": "1daf2c4a-8d5c-4384-e20a-3d7ebddcf940",
        "colab": {
          "base_uri": "https://localhost:8080/",
          "height": 51
        }
      },
      "source": [
        "#Nested Functions : square,cube\n",
        "def square(a):\n",
        "    return a*a\n",
        "\n",
        "def cube(x):\n",
        "    return square(x)*x\n",
        "\n",
        "print(square(10))\n",
        "print(cube(10))        "
      ],
      "execution_count": 0,
      "outputs": [
        {
          "output_type": "stream",
          "text": [
            "100\n",
            "1000\n"
          ],
          "name": "stdout"
        }
      ]
    },
    {
      "cell_type": "markdown",
      "metadata": {
        "id": "-0utfQxqHNH3",
        "colab_type": "text"
      },
      "source": [
        "# Recursive Function:\n",
        "1.Factorial of a number\n",
        "\n",
        "2.Fibonacci Series"
      ]
    },
    {
      "cell_type": "markdown",
      "metadata": {
        "id": "eU28kJAsIH2h",
        "colab_type": "text"
      },
      "source": [
        "# Data Structures\n",
        "**List**:\n",
        "   \n",
        "\n",
        "*   Collection of elements enclosed in[] and seperated by ,\n",
        "*   lists are mutable,indexed,ordered adn allows duplicate values\n",
        "*   list allows heterogenous values\n",
        "\n",
        "\n",
        "\n"
      ]
    },
    {
      "cell_type": "code",
      "metadata": {
        "id": "dGm2MF0dFkhp",
        "colab_type": "code",
        "outputId": "c49cfab5-ce89-414b-c8cf-8c4c36786323",
        "colab": {
          "base_uri": "https://localhost:8080/",
          "height": 34
        }
      },
      "source": [
        "list1=[12,23.45,True,\"abc\",12]\n",
        "print(type(list1))"
      ],
      "execution_count": 0,
      "outputs": [
        {
          "output_type": "stream",
          "text": [
            "<class 'list'>\n"
          ],
          "name": "stdout"
        }
      ]
    },
    {
      "cell_type": "code",
      "metadata": {
        "id": "Gx3XIRu4IlBD",
        "colab_type": "code",
        "outputId": "ff6a75e2-238c-407c-e180-bed07d7f2065",
        "colab": {
          "base_uri": "https://localhost:8080/",
          "height": 119
        }
      },
      "source": [
        "#operators supported by list : +,*,[],[:],in,not in\n",
        "list1=[1,2,3]\n",
        "list2=[10,20,30]\n",
        "print(list1+list2)#concatenation\n",
        "print(list1*3)#repitition\n",
        "print(list1[1])#2\n",
        "print(list1[1:3])#[1,2]\n",
        "print(2 in list1)#true\n",
        "print(200 in list1)#False"
      ],
      "execution_count": 0,
      "outputs": [
        {
          "output_type": "stream",
          "text": [
            "[1, 2, 3, 10, 20, 30]\n",
            "[1, 2, 3, 1, 2, 3, 1, 2, 3]\n",
            "2\n",
            "[2, 3]\n",
            "True\n",
            "False\n"
          ],
          "name": "stdout"
        }
      ]
    },
    {
      "cell_type": "code",
      "metadata": {
        "id": "yQpsBENvJagO",
        "colab_type": "code",
        "outputId": "99c71367-f26b-4d65-ec98-eeace2ae0e11",
        "colab": {
          "base_uri": "https://localhost:8080/",
          "height": 102
        }
      },
      "source": [
        "#Built-in functions:len(),min(),max(),list()\n",
        "list1 = [1,2,3,40]\n",
        "s1=\"python\"\n",
        "print(len(list1))\n",
        "print(min(list1))\n",
        "print(max(list1))\n",
        "list2 = list(s1)\n",
        "print(list2)\n",
        "list1[-1] = 100\n",
        "print(list1)"
      ],
      "execution_count": 0,
      "outputs": [
        {
          "output_type": "stream",
          "text": [
            "4\n",
            "1\n",
            "40\n",
            "['p', 'y', 't', 'h', 'o', 'n']\n",
            "[1, 2, 3, 100]\n"
          ],
          "name": "stdout"
        }
      ]
    },
    {
      "cell_type": "code",
      "metadata": {
        "id": "Rxjk2J5VLaey",
        "colab_type": "code",
        "colab": {}
      },
      "source": [
        ""
      ],
      "execution_count": 0,
      "outputs": []
    }
  ]
}