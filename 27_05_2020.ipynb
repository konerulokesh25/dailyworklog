{
  "nbformat": 4,
  "nbformat_minor": 0,
  "metadata": {
    "kernelspec": {
      "display_name": "Python 3",
      "language": "python",
      "name": "python3"
    },
    "language_info": {
      "codemirror_mode": {
        "name": "ipython",
        "version": 3
      },
      "file_extension": ".py",
      "mimetype": "text/x-python",
      "name": "python",
      "nbconvert_exporter": "python",
      "pygments_lexer": "ipython3",
      "version": "3.7.4"
    },
    "colab": {
      "name": "27-05-2020",
      "provenance": []
    }
  },
  "cells": [
    {
      "cell_type": "markdown",
      "metadata": {
        "id": "lyd3nNC_dTci",
        "colab_type": "text"
      },
      "source": [
        "# markdown\n",
        "## markdown\n",
        "### markdown"
      ]
    },
    {
      "cell_type": "markdown",
      "metadata": {
        "id": "lj-UYmUzdTck",
        "colab_type": "text"
      },
      "source": [
        "# insert site address\n",
        "[site](https://mail.google.com/mail/u/0/#inbox)"
      ]
    },
    {
      "cell_type": "markdown",
      "metadata": {
        "id": "ByIe7aNldTcm",
        "colab_type": "text"
      },
      "source": [
        "# insert an image\n",
        "![site](data:image/jpeg;base64,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)"
      ]
    },
    {
      "cell_type": "markdown",
      "metadata": {
        "id": "xyV-8xuwdTcn",
        "colab_type": "text"
      },
      "source": [
        "# python basics\n",
        "python is a beginner's language\n",
        "\n",
        "\n",
        "python is easy to learn"
      ]
    },
    {
      "cell_type": "markdown",
      "metadata": {
        "id": "dInbN35kdTco",
        "colab_type": "text"
      },
      "source": [
        "# creating ordered list\n",
        "1. abs\n",
        "2. hgds\n",
        "   1. a\n",
        "   2. b"
      ]
    },
    {
      "cell_type": "markdown",
      "metadata": {
        "id": "lx2OULmEdTcs",
        "colab_type": "text"
      },
      "source": [
        "# unordered list\n",
        "- hskaj\n",
        "- fjzx\n",
        "  -hj\n",
        "  _zx"
      ]
    },
    {
      "cell_type": "markdown",
      "metadata": {
        "id": "8rMlLy48dTcs",
        "colab_type": "text"
      },
      "source": [
        "# bold and italics\n",
        "**gitam**\n",
        "*gitam*"
      ]
    },
    {
      "cell_type": "code",
      "metadata": {
        "id": "cv2bPKd5dTct",
        "colab_type": "code",
        "outputId": "2f921519-133f-447b-c209-908c40928986",
        "colab": {}
      },
      "source": [
        "# basic hello program\n",
        "print(\"hello welcome to gitam !\")"
      ],
      "execution_count": 0,
      "outputs": [
        {
          "output_type": "stream",
          "text": [
            "hello welcome to gitam !\n"
          ],
          "name": "stdout"
        }
      ]
    },
    {
      "cell_type": "code",
      "metadata": {
        "id": "dzoEXJ3OdTc1",
        "colab_type": "code",
        "outputId": "604d2448-d79c-4adc-e49c-e6d321f126f0",
        "colab": {}
      },
      "source": [
        "# variable creation\n",
        "x=10\n",
        "y=20\n",
        "x+y\n"
      ],
      "execution_count": 0,
      "outputs": [
        {
          "output_type": "execute_result",
          "data": {
            "text/plain": [
              "30"
            ]
          },
          "metadata": {
            "tags": []
          },
          "execution_count": 6
        }
      ]
    },
    {
      "cell_type": "markdown",
      "metadata": {
        "id": "2f6pKplndTc6",
        "colab_type": "text"
      },
      "source": [
        "# rules for variable\n",
        "-  name should be begin with a character\n",
        "- no special charater allowed expected_\n"
      ]
    },
    {
      "cell_type": "code",
      "metadata": {
        "id": "aTqpTG4jdTc7",
        "colab_type": "code",
        "colab": {}
      },
      "source": [
        "name= \"sai\"\n",
        "age=20\n",
        "print(\"my name is:\",name,\"age is \",age)"
      ],
      "execution_count": 0,
      "outputs": []
    },
    {
      "cell_type": "code",
      "metadata": {
        "id": "AxGCmQi9dTdA",
        "colab_type": "code",
        "outputId": "ee488335-fe6f-45d2-d686-2d745354f818",
        "colab": {}
      },
      "source": [
        "name = input(\"enter name\")\n",
        "age = int(input(\"enter age\"))\n",
        "print(\"my name is:\",name,\"age is \",age)\n"
      ],
      "execution_count": 0,
      "outputs": [
        {
          "output_type": "stream",
          "text": [
            "enter nameshraavya\n",
            "enter age20\n",
            "my name is: shraavya age is  20\n"
          ],
          "name": "stdout"
        }
      ]
    },
    {
      "cell_type": "code",
      "metadata": {
        "id": "etQko9-wdTdF",
        "colab_type": "code",
        "outputId": "215559cf-5baf-4a14-fe89-a7d592d66ef2",
        "colab": {}
      },
      "source": [
        "x = int(input(\"enter a number\"))\n",
        "y = int(input(\"enter a number\"))\n",
        "\n",
        "print(\" addition of two number\",x+y)\n",
        "   \n",
        "print(\" subtraction of two number\",x-y)\n",
        " \n",
        "print(\" multiplication of two number\",x*y)\n",
        "print(\" division of two number\",x/y)"
      ],
      "execution_count": 0,
      "outputs": [
        {
          "output_type": "stream",
          "text": [
            "enter a number10\n",
            "enter a number20\n",
            " addition of two number 30\n",
            " subtraction of two number -10\n",
            " multiplication of two number 200\n",
            " division of two number 0.5\n"
          ],
          "name": "stdout"
        }
      ]
    },
    {
      "cell_type": "markdown",
      "metadata": {
        "id": "EskRW2EgdTdJ",
        "colab_type": "text"
      },
      "source": [
        "# fundamental datatypes:\n",
        "- int\n",
        "- float\n",
        "- complex\n",
        "- boolean\n",
        "- string"
      ]
    },
    {
      "cell_type": "code",
      "metadata": {
        "id": "jieQzVVjdTdK",
        "colab_type": "code",
        "outputId": "abdece95-cba0-4796-9438-3867a2381e77",
        "colab": {}
      },
      "source": [
        "x = 10\n",
        "y = 23.5\n",
        "z = 5+12j\n",
        "t=\"true\"\n",
        "print(type(x))\n",
        "print(type(y))\n",
        "print(type(z))\n",
        "print(type(t))"
      ],
      "execution_count": 0,
      "outputs": [
        {
          "output_type": "stream",
          "text": [
            "<class 'int'>\n",
            "<class 'float'>\n",
            "<class 'complex'>\n",
            "<class 'str'>\n"
          ],
          "name": "stdout"
        }
      ]
    },
    {
      "cell_type": "code",
      "metadata": {
        "id": "g9lnN3j_dTdR",
        "colab_type": "code",
        "outputId": "552ef2e3-dee0-49eb-b8f4-a812f7636287",
        "colab": {}
      },
      "source": [
        "c=complex(2,5)\n",
        "print(c)\n"
      ],
      "execution_count": 0,
      "outputs": [
        {
          "output_type": "stream",
          "text": [
            "(2+5j)\n"
          ],
          "name": "stdout"
        }
      ]
    },
    {
      "cell_type": "code",
      "metadata": {
        "id": "4kq4BuT0dTdV",
        "colab_type": "code",
        "outputId": "d7abff43-051c-4890-d282-d0fae2fe451a",
        "colab": {}
      },
      "source": [
        "c1=3+6j\n",
        "c2=8+10j\n",
        "print(c1+c2)\n",
        "print(c1-c2)\n",
        "print(c1*c2)\n",
        "print(c1/c2)\n"
      ],
      "execution_count": 0,
      "outputs": [
        {
          "output_type": "stream",
          "text": [
            "(11+16j)\n",
            "(-5-4j)\n",
            "(-36+78j)\n",
            "(0.5121951219512195+0.10975609756097567j)\n"
          ],
          "name": "stdout"
        }
      ]
    },
    {
      "cell_type": "code",
      "metadata": {
        "id": "oXcchqCndTdZ",
        "colab_type": "code",
        "outputId": "2a7192fc-64aa-4a38-b3df-42ffcfe837e4",
        "colab": {}
      },
      "source": [
        "a = 6\n",
        "b = 15\n",
        "a < b"
      ],
      "execution_count": 0,
      "outputs": [
        {
          "output_type": "execute_result",
          "data": {
            "text/plain": [
              "True"
            ]
          },
          "metadata": {
            "tags": []
          },
          "execution_count": 37
        }
      ]
    },
    {
      "cell_type": "code",
      "metadata": {
        "id": "cexi6QCNdTdd",
        "colab_type": "code",
        "outputId": "ba0d9d1b-7908-44b7-a45a-384785e3d86f",
        "colab": {}
      },
      "source": [
        "# string \n",
        "s1 = \"shraavya\"\n",
        "s2 = \"shresta\"\n",
        "s3 = \"gayu\"\n",
        "print(type(s1))\n",
        "print(type(s2))\n",
        "print(type(s3))\n"
      ],
      "execution_count": 0,
      "outputs": [
        {
          "output_type": "stream",
          "text": [
            "<class 'str'>\n",
            "<class 'str'>\n",
            "<class 'str'>\n"
          ],
          "name": "stdout"
        }
      ]
    },
    {
      "cell_type": "code",
      "metadata": {
        "id": "1CsWZbUTdTdp",
        "colab_type": "code",
        "outputId": "7c767e75-f731-4deb-ef63-4da65e85ad35",
        "colab": {}
      },
      "source": [
        "i = 100\n",
        "print(type(i))\n",
        "s1 = str(i)\n",
        "print(type(s1))\n",
        "f1=float(i)\n",
        "print(type(f1))\n"
      ],
      "execution_count": 0,
      "outputs": [
        {
          "output_type": "stream",
          "text": [
            "<class 'int'>\n",
            "<class 'str'>\n",
            "<class 'float'>\n"
          ],
          "name": "stdout"
        }
      ]
    },
    {
      "cell_type": "code",
      "metadata": {
        "id": "bmYBUFe3dTdt",
        "colab_type": "code",
        "outputId": "a7056efd-c86f-46f5-8b2f-28a215c0631f",
        "colab": {}
      },
      "source": [
        "a=\"abcd\"\n",
        "print(len(str(a)))"
      ],
      "execution_count": 0,
      "outputs": [
        {
          "output_type": "stream",
          "text": [
            "4\n"
          ],
          "name": "stdout"
        }
      ]
    },
    {
      "cell_type": "code",
      "metadata": {
        "id": "Q9PmAT5sdTdx",
        "colab_type": "code",
        "outputId": "23d7748b-8252-401c-cb05-b19622e553aa",
        "colab": {}
      },
      "source": [
        "n1=200\n",
        "a=b=c=2000\n",
        "a1,b1,c1=20,200,2000\n",
        "print(n1)\n",
        "print(a,b,c)\n",
        "print(a1,b1,c1)"
      ],
      "execution_count": 0,
      "outputs": [
        {
          "output_type": "stream",
          "text": [
            "200\n",
            "2000 2000 2000\n",
            "20 200 2000\n"
          ],
          "name": "stdout"
        }
      ]
    },
    {
      "cell_type": "markdown",
      "metadata": {
        "id": "9njJCH1FdTd1",
        "colab_type": "text"
      },
      "source": [
        "# precendence of arth operators\n",
        "- parenthesis\n",
        "- power\n",
        "- multipication\n",
        "- addition \n"
      ]
    },
    {
      "cell_type": "code",
      "metadata": {
        "id": "yQCS44gedTd2",
        "colab_type": "code",
        "outputId": "541a3ce5-9a9b-47a5-88ea-ca5531eb4d01",
        "colab": {}
      },
      "source": [
        "x=1+2 ** 3 /4 +5\n",
        "print(x)"
      ],
      "execution_count": 0,
      "outputs": [
        {
          "output_type": "stream",
          "text": [
            "8.0\n"
          ],
          "name": "stdout"
        }
      ]
    },
    {
      "cell_type": "code",
      "metadata": {
        "id": "YBLj1BQ_dTd6",
        "colab_type": "code",
        "outputId": "a8093ee4-ccc7-4b35-eba0-aaa0887f3965",
        "colab": {}
      },
      "source": [
        "x=(10+20)** 2/10 +5\n",
        "print(x)"
      ],
      "execution_count": 0,
      "outputs": [
        {
          "output_type": "stream",
          "text": [
            "95.0\n"
          ],
          "name": "stdout"
        }
      ]
    },
    {
      "cell_type": "code",
      "metadata": {
        "id": "Y0b1IPQ8dTd-",
        "colab_type": "code",
        "outputId": "b676d96f-2b74-4841-c0b7-0d6946e1bf7e",
        "colab": {}
      },
      "source": [
        "x=1+2 **2*4/4*5\n",
        "print(x)"
      ],
      "execution_count": 0,
      "outputs": [
        {
          "output_type": "stream",
          "text": [
            "21.0\n"
          ],
          "name": "stdout"
        }
      ]
    },
    {
      "cell_type": "markdown",
      "metadata": {
        "id": "iNQg_C0DdTeE",
        "colab_type": "text"
      },
      "source": [
        "# operators\n",
        "- arithemtic\n",
        "- +\n",
        "- -\n",
        "- *\n",
        "- %\n",
        "- /\n",
        "- **\n",
        "- //\n"
      ]
    },
    {
      "cell_type": "code",
      "metadata": {
        "id": "qv5DrLkYdTeE",
        "colab_type": "code",
        "outputId": "66232aa2-64fe-4daa-cd44-c0f8a7b3b613",
        "colab": {}
      },
      "source": [
        "x = int(input(\"enter a number\"))\n",
        "y = int(input(\"enter a number\"))\n",
        "print(\" addition of two number\",x+y)\n",
        "print(\" subtraction of two number\",x-y)\n",
        "print(\" multiplication of two number\",x*y)\n",
        "print(\" division of two number\",x/y)\n",
        "print(\" quoitent of two number\",x//y)\n",
        "print(\" power of two number\",x**y)\n",
        "print(\" reminder of two number\",x%y)"
      ],
      "execution_count": 0,
      "outputs": [
        {
          "output_type": "stream",
          "text": [
            "enter a number14\n",
            "enter a number45\n",
            " addition of two number 59\n",
            " subtraction of two number -31\n",
            " multiplication of two number 630\n",
            " division of two number 0.3111111111111111\n",
            " quoitent of two number 0\n",
            " power of two number 3764970741313956117835509136399237093300229503975424\n",
            " reminder of two number 14\n"
          ],
          "name": "stdout"
        }
      ]
    },
    {
      "cell_type": "markdown",
      "metadata": {
        "id": "J3u4lxk1dTeI",
        "colab_type": "text"
      },
      "source": [
        "# relational operators:\n",
        "- ==\n",
        "- !=\n",
        "- <=\n",
        "- >=\n",
        "- <\n",
        "- >\n",
        "\n",
        "\n"
      ]
    },
    {
      "cell_type": "code",
      "metadata": {
        "id": "sahE6rKwdTeJ",
        "colab_type": "code",
        "outputId": "3f9cddc6-d75f-4eba-cd1a-2c0a7915c817",
        "colab": {}
      },
      "source": [
        "x = 5\n",
        "a = x > 10\n",
        "print(a)\n"
      ],
      "execution_count": 0,
      "outputs": [
        {
          "output_type": "stream",
          "text": [
            "False\n"
          ],
          "name": "stdout"
        }
      ]
    },
    {
      "cell_type": "code",
      "metadata": {
        "id": "SP7kv8DQdTeN",
        "colab_type": "code",
        "outputId": "5cae6775-3f2f-45a5-b1f1-138d3d866682",
        "colab": {}
      },
      "source": [
        "i = 100\n",
        "a1 = (i > 15) and (i > 54)\n",
        "print(a1)\n"
      ],
      "execution_count": 0,
      "outputs": [
        {
          "output_type": "stream",
          "text": [
            "True\n"
          ],
          "name": "stdout"
        }
      ]
    },
    {
      "cell_type": "code",
      "metadata": {
        "id": "un9dSomTdTeQ",
        "colab_type": "code",
        "outputId": "3f58d34d-316e-4196-9101-ecf3a7601c73",
        "colab": {}
      },
      "source": [
        "i = 100\n",
        "a1 = (i > 19) and (i > 54)\n",
        "a2 = (i > 222) or (i > 175)\n",
        "print(a1,a2)\n",
        "print(not i)"
      ],
      "execution_count": 0,
      "outputs": [
        {
          "output_type": "stream",
          "text": [
            "True False\n",
            "False\n"
          ],
          "name": "stdout"
        }
      ]
    },
    {
      "cell_type": "markdown",
      "metadata": {
        "id": "2IiFMezedTeU",
        "colab_type": "text"
      },
      "source": [
        "# membership operator\n",
        "- in \n",
        "- not in\n",
        "\n"
      ]
    },
    {
      "cell_type": "code",
      "metadata": {
        "id": "1nQElS2wdTeV",
        "colab_type": "code",
        "outputId": "ce679336-82ce-4cec-ad55-055d406ff7f9",
        "colab": {}
      },
      "source": [
        "str1 = \"abc\"\n",
        "print('a'in str1)\n",
        "print('a' not in str1)\n"
      ],
      "execution_count": 0,
      "outputs": [
        {
          "output_type": "stream",
          "text": [
            "True\n",
            "False\n"
          ],
          "name": "stdout"
        }
      ]
    },
    {
      "cell_type": "markdown",
      "metadata": {
        "id": "BgCLA8IVdTeZ",
        "colab_type": "text"
      },
      "source": [
        "# control flow statements\n",
        "- conditional statements\n",
        "- looping statements\n",
        "- if else statements\n",
        "- syntax\n",
        "#### if condition\n",
        "-- statement<br>\n",
        "#### else\n",
        "-- statements"
      ]
    },
    {
      "cell_type": "code",
      "metadata": {
        "id": "RQ0hU2RQdTeZ",
        "colab_type": "code",
        "outputId": "b2dc90fb-d2ee-4d66-88cb-b1a46da268f4",
        "colab": {}
      },
      "source": [
        "#check given number is even or odd\n",
        "n = int(input (\"enter a number\"))\n",
        "if n%2 == 0:\n",
        " print(\"even\")\n",
        "else:\n",
        " print(\"odd\")\n"
      ],
      "execution_count": 0,
      "outputs": [
        {
          "output_type": "stream",
          "text": [
            "enter a number20\n",
            "even\n"
          ],
          "name": "stdout"
        }
      ]
    },
    {
      "cell_type": "code",
      "metadata": {
        "id": "i9IoMUx7dTed",
        "colab_type": "code",
        "outputId": "2417708b-440f-42ff-c3f0-71ad7383d3fa",
        "colab": {}
      },
      "source": [
        "#check given number is mul of 3 or 5\n",
        "n = int(input (\"enter a number\"))\n",
        "if n%3 == 0 and n%5==0:\n",
        " print(\"yes\")\n",
        "else:\n",
        " print(\"no\")\n"
      ],
      "execution_count": 0,
      "outputs": [
        {
          "output_type": "stream",
          "text": [
            "enter a number15\n",
            "yes\n"
          ],
          "name": "stdout"
        }
      ]
    },
    {
      "cell_type": "code",
      "metadata": {
        "id": "mlqYa-EddTei",
        "colab_type": "code",
        "outputId": "8f65aadc-486f-44d9-ece8-b2da167e033f",
        "colab": {}
      },
      "source": [
        "  #check given number is positive, negative or zero\n",
        "    N= int(input(\"enter a number\"))\n",
        "    if n >0:\n",
        "        print(\"positive\")\n",
        "        else n<0:\n",
        "            print(\"negative\")\n",
        "             else:\n",
        "            print(\"zero\")\n",
        "        \n",
        "  "
      ],
      "execution_count": 0,
      "outputs": [
        {
          "output_type": "error",
          "ename": "IndentationError",
          "evalue": "unexpected indent (<ipython-input-24-fab7fd0d2cef>, line 2)",
          "traceback": [
            "\u001b[1;36m  File \u001b[1;32m\"<ipython-input-24-fab7fd0d2cef>\"\u001b[1;36m, line \u001b[1;32m2\u001b[0m\n\u001b[1;33m    N= int(input(\"enter a number\"))\u001b[0m\n\u001b[1;37m    ^\u001b[0m\n\u001b[1;31mIndentationError\u001b[0m\u001b[1;31m:\u001b[0m unexpected indent\n"
          ]
        }
      ]
    },
    {
      "cell_type": "code",
      "metadata": {
        "id": "O0HxQinadTel",
        "colab_type": "code",
        "colab": {}
      },
      "source": [
        "#check input year is a leap year or not"
      ],
      "execution_count": 0,
      "outputs": []
    }
  ]
}